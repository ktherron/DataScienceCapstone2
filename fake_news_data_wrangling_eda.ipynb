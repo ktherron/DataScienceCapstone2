{
 "cells": [
  {
   "cell_type": "markdown",
   "id": "9019c282",
   "metadata": {},
   "source": [
    "## Data Wrangling"
   ]
  },
  {
   "cell_type": "markdown",
   "id": "02c5cce2",
   "metadata": {},
   "source": [
    "### Imports"
   ]
  },
  {
   "cell_type": "code",
   "execution_count": 1,
   "id": "a6fef45f",
   "metadata": {},
   "outputs": [],
   "source": [
    "import os # accessing directory structure\n",
    "import pandas as pd # data processing, CSV file I/O\n",
    "import numpy as np # linear algebra\n",
    "\n",
    "from sklearn.feature_extraction.text import CountVectorizer\n",
    "from nltk import tokenize\n",
    "import warnings\n",
    "from save_utils import save_file\n"
   ]
  },
  {
   "cell_type": "markdown",
   "id": "14ead2d7",
   "metadata": {},
   "source": [
    "### Load Data"
   ]
  },
  {
   "cell_type": "code",
   "execution_count": 2,
   "id": "d8c1fe33",
   "metadata": {},
   "outputs": [],
   "source": [
    "fake_news = pd.read_csv('source_folder/train.csv')"
   ]
  },
  {
   "cell_type": "code",
   "execution_count": 3,
   "id": "6691dae7",
   "metadata": {},
   "outputs": [
    {
     "name": "stdout",
     "output_type": "stream",
     "text": [
      "<class 'pandas.core.frame.DataFrame'>\n",
      "RangeIndex: 24353 entries, 0 to 24352\n",
      "Data columns (total 5 columns):\n",
      " #   Column        Non-Null Count  Dtype \n",
      "---  ------        --------------  ----- \n",
      " 0   Unnamed: 0.1  24353 non-null  int64 \n",
      " 1   Unnamed: 0    24353 non-null  int64 \n",
      " 2   title         24353 non-null  object\n",
      " 3   text          24353 non-null  object\n",
      " 4   label         24353 non-null  int64 \n",
      "dtypes: int64(3), object(2)\n",
      "memory usage: 951.4+ KB\n"
     ]
    }
   ],
   "source": [
    "fake_news.info()"
   ]
  },
  {
   "cell_type": "code",
   "execution_count": 4,
   "id": "0814e70f",
   "metadata": {},
   "outputs": [
    {
     "data": {
      "text/html": [
       "<div>\n",
       "<style scoped>\n",
       "    .dataframe tbody tr th:only-of-type {\n",
       "        vertical-align: middle;\n",
       "    }\n",
       "\n",
       "    .dataframe tbody tr th {\n",
       "        vertical-align: top;\n",
       "    }\n",
       "\n",
       "    .dataframe thead th {\n",
       "        text-align: right;\n",
       "    }\n",
       "</style>\n",
       "<table border=\"1\" class=\"dataframe\">\n",
       "  <thead>\n",
       "    <tr style=\"text-align: right;\">\n",
       "      <th></th>\n",
       "      <th>Unnamed: 0.1</th>\n",
       "      <th>Unnamed: 0</th>\n",
       "      <th>title</th>\n",
       "      <th>text</th>\n",
       "      <th>label</th>\n",
       "    </tr>\n",
       "  </thead>\n",
       "  <tbody>\n",
       "    <tr>\n",
       "      <th>0</th>\n",
       "      <td>0</td>\n",
       "      <td>0</td>\n",
       "      <td>‘Maury’ Show Official Facebook Posts F*CKED U...</td>\n",
       "      <td>Maury is perhaps one of the trashiest shows on...</td>\n",
       "      <td>0</td>\n",
       "    </tr>\n",
       "    <tr>\n",
       "      <th>1</th>\n",
       "      <td>1</td>\n",
       "      <td>1</td>\n",
       "      <td>Trump’s Favorite News Channel Tries To Soothe...</td>\n",
       "      <td>Yesterday, after the father of one of the UCLA...</td>\n",
       "      <td>0</td>\n",
       "    </tr>\n",
       "    <tr>\n",
       "      <th>2</th>\n",
       "      <td>2</td>\n",
       "      <td>2</td>\n",
       "      <td>Russia warns Iraq, Kurds not to destabilize Mi...</td>\n",
       "      <td>MOSCOW (Reuters) - Russia on Wednesday warned ...</td>\n",
       "      <td>1</td>\n",
       "    </tr>\n",
       "    <tr>\n",
       "      <th>3</th>\n",
       "      <td>3</td>\n",
       "      <td>3</td>\n",
       "      <td>WATCH STEVE SCALISE Throw A Strike At The Nati...</td>\n",
       "      <td>House Majority Whip Steve Scalise (R., La.) th...</td>\n",
       "      <td>0</td>\n",
       "    </tr>\n",
       "    <tr>\n",
       "      <th>4</th>\n",
       "      <td>4</td>\n",
       "      <td>4</td>\n",
       "      <td>Trump Will HATE What Stephen Colbert Just Did...</td>\n",
       "      <td>It can be said that Late Show host Stephen Col...</td>\n",
       "      <td>0</td>\n",
       "    </tr>\n",
       "  </tbody>\n",
       "</table>\n",
       "</div>"
      ],
      "text/plain": [
       "   Unnamed: 0.1  Unnamed: 0  \\\n",
       "0             0           0   \n",
       "1             1           1   \n",
       "2             2           2   \n",
       "3             3           3   \n",
       "4             4           4   \n",
       "\n",
       "                                               title  \\\n",
       "0   ‘Maury’ Show Official Facebook Posts F*CKED U...   \n",
       "1   Trump’s Favorite News Channel Tries To Soothe...   \n",
       "2  Russia warns Iraq, Kurds not to destabilize Mi...   \n",
       "3  WATCH STEVE SCALISE Throw A Strike At The Nati...   \n",
       "4   Trump Will HATE What Stephen Colbert Just Did...   \n",
       "\n",
       "                                                text  label  \n",
       "0  Maury is perhaps one of the trashiest shows on...      0  \n",
       "1  Yesterday, after the father of one of the UCLA...      0  \n",
       "2  MOSCOW (Reuters) - Russia on Wednesday warned ...      1  \n",
       "3  House Majority Whip Steve Scalise (R., La.) th...      0  \n",
       "4  It can be said that Late Show host Stephen Col...      0  "
      ]
     },
     "execution_count": 4,
     "metadata": {},
     "output_type": "execute_result"
    }
   ],
   "source": [
    "fake_news.head()"
   ]
  },
  {
   "cell_type": "markdown",
   "id": "26b59602",
   "metadata": {},
   "source": [
    "### Number of missing values by column"
   ]
  },
  {
   "cell_type": "code",
   "execution_count": 5,
   "id": "8f682d56",
   "metadata": {},
   "outputs": [
    {
     "data": {
      "text/html": [
       "<div>\n",
       "<style scoped>\n",
       "    .dataframe tbody tr th:only-of-type {\n",
       "        vertical-align: middle;\n",
       "    }\n",
       "\n",
       "    .dataframe tbody tr th {\n",
       "        vertical-align: top;\n",
       "    }\n",
       "\n",
       "    .dataframe thead th {\n",
       "        text-align: right;\n",
       "    }\n",
       "</style>\n",
       "<table border=\"1\" class=\"dataframe\">\n",
       "  <thead>\n",
       "    <tr style=\"text-align: right;\">\n",
       "      <th></th>\n",
       "      <th>count</th>\n",
       "      <th>%</th>\n",
       "    </tr>\n",
       "  </thead>\n",
       "  <tbody>\n",
       "    <tr>\n",
       "      <th>Unnamed: 0.1</th>\n",
       "      <td>0</td>\n",
       "      <td>0.0</td>\n",
       "    </tr>\n",
       "    <tr>\n",
       "      <th>Unnamed: 0</th>\n",
       "      <td>0</td>\n",
       "      <td>0.0</td>\n",
       "    </tr>\n",
       "    <tr>\n",
       "      <th>title</th>\n",
       "      <td>0</td>\n",
       "      <td>0.0</td>\n",
       "    </tr>\n",
       "    <tr>\n",
       "      <th>text</th>\n",
       "      <td>0</td>\n",
       "      <td>0.0</td>\n",
       "    </tr>\n",
       "    <tr>\n",
       "      <th>label</th>\n",
       "      <td>0</td>\n",
       "      <td>0.0</td>\n",
       "    </tr>\n",
       "  </tbody>\n",
       "</table>\n",
       "</div>"
      ],
      "text/plain": [
       "              count    %\n",
       "Unnamed: 0.1      0  0.0\n",
       "Unnamed: 0        0  0.0\n",
       "title             0  0.0\n",
       "text              0  0.0\n",
       "label             0  0.0"
      ]
     },
     "execution_count": 5,
     "metadata": {},
     "output_type": "execute_result"
    }
   ],
   "source": [
    "missing = pd.concat([fake_news.isnull().sum(), 100 * fake_news.isnull().mean()], axis=1)\n",
    "missing.columns=['count', '%']\n",
    "missing.sort_values(by='count', ascending=False)"
   ]
  },
  {
   "cell_type": "markdown",
   "id": "363d94eb",
   "metadata": {},
   "source": [
    "## Value counts for title"
   ]
  },
  {
   "cell_type": "code",
   "execution_count": 6,
   "id": "1f2a1795",
   "metadata": {},
   "outputs": [
    {
     "data": {
      "text/plain": [
       "no title                                                                         92\n",
       "Factbox: Trump fills top jobs for his administration                             10\n",
       "newsticker                                                                        8\n",
       "Factbox: Contenders for senior jobs in Trump's administration                     5\n",
       "Factbox: Contenders, picks for key jobs in Trump's administration                 5\n",
       "                                                                                 ..\n",
       "Pakistan's ruling party nominates ousted PM Sharif to lead it                     1\n",
       "Trump's unpredictability already troubles U.S. friends                            1\n",
       "OBAMABOT CONGRESSWOMAN: ISIS Beheadings Do Not Justify U.S Airstrikes [Video]     1\n",
       "Uganda in anti-online pornography drive seen by critics as diversion              1\n",
       "Ukraine's Tymoshenko expects fair U.S. ruling after Manafort indicted             1\n",
       "Name: title, Length: 24088, dtype: int64"
      ]
     },
     "execution_count": 6,
     "metadata": {},
     "output_type": "execute_result"
    }
   ],
   "source": [
    "(fake_news['title']).value_counts()"
   ]
  },
  {
   "cell_type": "code",
   "execution_count": 7,
   "id": "991b6588-570f-42b4-a6e2-ca90949e32ec",
   "metadata": {},
   "outputs": [
    {
     "data": {
      "text/plain": [
       "Maury is perhaps one of the trashiest shows on television today. It s right in line with the likes of the gutter trash that is Jerry Springer, and the fact that those shows are still on the air with the shit they air really is a sad testament to what Americans find to be entertaining. However, Maury really crossed the line with a Facebook post regarding one of their guest s appearance with a vile, disgusting caption on Tuesday evening.There was a young woman on there doing one of their episodes regarding the paternity of her child. However, on the page, the show posted an image of the woman, who happens to bear a striking resemblance to Senator and presidential candidate Ted Cruz. The caption from the Maury Show page read: The Lie Detector Test determined .that was a LIE!  Ted Cruz is just NOT that SEXY! As if that weren t horrible enough, the caption underneath the Imgur upload reads,  Ted Cruz in drag on Maury. Here is an image from the official Maury Facebook page:Here is the embed of the post itself:This is beyond despicable. It s bad enough that this show preys on desperate people to keep their trashy show going and their audience of bottom-feeders entertained, but now they publicly mock them as well? This young woman cannot help how she looks or who she resembles. That is not her fault. Shaming someone s looks on social media is something we d expect from the morons who watch this crap on a daily basis, but it is NOT something the official show page should be doing. Then again, what can you expect from a show that rolls in the mud for a living and continues to show the world that there is now low they will not stoop to? This was more than a step too far, though.Maury, you owe this young woman a public apology. A VERY public apology. There s just no excuse for this, no matter the demographics of your audience or what you do on that disgusting show of yours. I suppose it will be too much to ask that you lose viewers over this, because the people who watch your trashy ass show likely aren t educated enough to understand why this is so wrong in the first place. I don t watch, so I can t deprive you of my viewership, but I CAN call you out.Shame on you, Maury Show and everyone associated with this despicable Facebook post. You really showed your true colors here today.Featured image via Facebook                                                                                                                                                                                                                                                                                                                                                                                                                                                                                                                                                                                                                                                                                                                                                                                                                                                                                                                                                                                                                                                                                                                                                                                                                                                                                                                                                                                                                                                                                                                                                                                                                                                                                                                                                                                                                                                                                                                                                                                                                                                                                                                                                                                                              1\n",
       "(Reuters) - Republican lawmakers in several central U.S. states are pushing bills that would crack down on demonstrations, drawing criticism from free speech campaigners and underlining the polarization over protests in the era of President Donald Trump. Bills have been introduced over the past month in states including North Dakota, Indiana and Iowa that would impose measures such as harsher penalties for demonstrators who disrupt traffic, and scrapping punishment for drivers who unintentionally strike protesters blocking their vehicles. The push for stricter laws comes as opponents of Trump have vowed to take to the streets to demonstrate against his policies on issues ranging from immigration to abortion and climate change. Hundreds of thousands of people took part in women’s marches on Jan. 21 in cities across the country. While the fate of the bills was not immediately clear, supporters say they sum up the frustration some people feel about protests that get in the way of their daily lives. “People are just kind of sick and tired of this garbage,” Nick Zerwas, a Republican state representative in Minnesota, said by telephone. “If you block a freeway, you ought to go to jail and when you get out, you ought to get the bill.” Zerwas has introduced two bills, one of which would increase the penalty for obstructing traffic to a gross misdemeanor, meaning offenders could face up to a year in jail and a $3,000 fine. The other would make protesters pay policing costs if their protests were deemed illegal or a nuisance by a court. In Iowa, Republican state senator Jake Chapman is the lead sponsor of a bill that would make it a felony to block traffic on roads with speed limits of 55 miles-per-hour (88 km) or more. Offenders would face up to five years in jail and a $7,500 fine. “People are really fed up with it,” Chapman said of the disruption caused by demonstrations.  He said his constituents were not against the protests as such, but that they did not want their travel affected. He said demonstrations should be held in “appropriate” places. Free speech advocates said the proposals are worrying.  “What’s happening is a truly alarming spread of state legislation that, if passed, will have the intent or impact of criminalizing peaceful protests,” said Lee Rowland, an attorney with the American Civil Liberties Union rights group.  The bills were “unconstitutional right out of the gate,” Rowland said, adding that protests should be seen as a “success of representative democracy,” not a problem to be solved. Gregory Magarian, a professor at Washington University in St. Louis School of Law, said the bills present a “major First Amendment problem,” referring to the section of the U.S. Constitution that guarantees the right to free expression. “They (the lawmakers) are putting their petty ideologies over the principles of free speech,” Magarian said. Defenders of the proposals, however, argue that they were formulated out of concern for public safety above all. One bill by Indiana Republican state senator Jim Tomes calls for police “to use any means necessary” to clear roads of people unlawfully blocking traffic no more than 15 minutes after law enforcement learns of the obstruction.  In an emailed statement, Tomes said he had no problem with protesters who apply for permits in advance. In North Dakota, where hundreds have been arrested during protests against a pipeline, a bill by Republican state Rep. Keith Kempenich would shield motorists from liability if they unintentionally hit a protester on a roadway, injuring or killing them.  Kempenich did not respond to requests for comment, but has said he introduced the bill after his mother-in-law was caught in a protest while driving.  “It’s shifting the burden of proof from the motor vehicle driver to the pedestrian,” he told the Bismarck Tribune.                                                                                                                                                                                                                                                                                                                                                                                                                                                                                                                                                                                                                              1\n",
       "ADEN (Reuters) - The Saudi-led coalition fighting in Yemen said on Wednesday it would keep the Houthi-controlled Hodeidah port, vital for aid, open for a month despite a fresh missile attack against Riyadh, but it kept up air raids that killed at least nine people. The Western-backed coalition, which controls Yemen s airspace and port access, said last month it would allow humanitarian relief through Hodeidah following a nearly three-week blockade imposed because of a missile attack toward the Saudi capital s international airport. The Saudis say the Red Sea port, which is Yemen s main entry point for food and humanitarian supplies, is also a hub used by the Houthis to bring in weapons, which it accuses Iran of supplying. Tehran denies the charges. On Wednesday, the coalition confirmed it would keep access open to the port despite another missile attack at Riyadh on Tuesday by the Houthis which Saudi forces also intercepted.   Keen to maintain humanitarian aid to the brotherly Yemeni people and as a result of intensified inspection measures, the coalition command announces that Hodeidah port will remain open for humanitarian and relief supplies,  the coalition said in a statement carried by Saudi state news agency SPA on Wednesday. The Saudi ambassador to Sanaa said the coalition would also allow the provision of four cranes to the port to boost aid deliveries to the war-damaged country. The ambassador, Mohammed al-Jaber, who was speaking in a televised news conference, did not give details on how the cranes would be delivered.  Earlier this year, the United Nations said the coalition turned back four cranes the United States donated to the World Food Programme to boost aid operations at Hodeidah.  The cranes would have replaced parts of the port s infrastructure destroyed by coalition air strikes in August 2015, damage that forced ships to line up offshore because they could not be unloaded. The coalition said ships bringing in fuel and food would also be allowed to enter for another 30 days while proposals made by the United Nations envoy to Yemen were implemented, it added. The agency did not elaborate on the proposals. But the coalition has been demanding that a U.N. inspection regime agreed in 2015 be further tightened to prevent weapons from reaching the Houthis. SALMAN-TRUMP CALL Saudi state news agency SPA said King Salman discussed in a telephone call with U.S. President Donald Trump ways  to hold the Iranian regime accountable for its hostile acts and its involvement in supplying the Houthi militia with missiles to threaten the security of the kingdom and the region . The White House later confirmed the call and said the two leaders  agreed on the importance of reinvigorating a political process to end the war in Yemen  and that the king briefed Trump on a Saudi plan  to alleviate the humanitarian crisis  caused by the conflict. Tuesday s missile attack took place as the Houthis marked 1,000 days since the coalition intervened in the Yemen war in March 2015 to try to restore President Abd-Rabbu Mansour Hadi after a Houthi advance on his base in Aden forced him to flee. Saudi Arabia said that since the war began the Houthis had fired 83 ballistic missiles toward the kingdom. More than 10,000 people have been killed and a humanitarian crisis unleashed in a conflict which has intensified since former President Ali Abdullah Saleh was killed on Dec. 4. Coalition forces, which are supported by the United States and Britain, meanwhile launched fresh air strikes overnight.  Residents said at least nine members of the same family, including at least five children, were killed in one air strike which hit their home in Wadi Khair in southern Yemen s Shabwa province. Coalition aircraft have been providing air support for southern fighters and pro-government troops as part of a push to clear the Houthis from Shabwa and the family were killed in an apparently mistaken attack. Residents also reported that coalition aircraft bombed a new parliament chamber, part of a government compound being built in Sanaa, causing damage but no casualties. The coalition had no immediate comment on the report but says it does not target civilians. Similar air strikes in which civilian homes, markets and hospitals were hit are recurrent in Yemen. On Monday, eight women and two children from the same family died when war planes struck a vehicle returning from a wedding party in Marib, east of Sanaa.     1\n",
       "MANILA (Reuters) - Philippine President Rodrigo Duterte said on Tuesday he would only answer to the people of his country when it came to human rights, and defended his war on drugs after a summit of Asian leaders.  Speaking at a news conference at the end of a summit of East and Southeast Asian leaders, Duterte was asked if his anti-drugs crackdown was raised by other leaders, including Canada Prime Minister Justin Trudeau.  I was elected by the people of the Republic of the Philippines. I only answer to the people of the Republic of the Philippines,  he said.                                                                                                                                                                                                                                                                                                                                                                                                                                                                                                                                                                                                                                                                                                                                                                                                                                                                                                                                                                                                                                                                                                                                                                                                                                                                                                                                                                                                                                                                                                                                                                                                                                                                                                                                                                                                                                                                                                                                                                                                                                                                                                                                                                                                                                                                                                                                                                                                                                                                                                                                                                                                                                                                                                                                                                                                                                                                                                                                                                                                                                                                                                                                                                                                                                                                                                                                                                                                                                                                                                                                                                                                                                                                                                                                                                                                                                                                                                                                                                                                                                                        1\n",
       "This veteran exposes Trump hating protester in Kansas City when he asks her to explain why Trump is a  racist,  and why defending our borders as part of our national security is a bad thing.Trump supporter schools a protester in Kansas City #Trump2016 #MakeAmericaGreatAgainPosted by Jacob T. Honeycutt on Saturday, 12 March 2016                                                                                                                                                                                                                                                                                                                                                                                                                                                                                                                                                                                                                                                                                                                                                                                                                                                                                                                                                                                                                                                                                                                                                                                                                                                                                                                                                                                                                                                                                                                                                                                                                                                                                                                                                                                                                                                                                                                                                                                                                                                                                                                                                                                                                                                                                                                                                                                                                                                                                                                                                                                                                                                                                                                                                                                                                                                                                                                                                                                                                                                                                                                                                                                                                                                                                                                                                                                                                                                                                                                                                                                                                                                                                                                                                                                                                                                                                                                                                                                                                                                                                                                                                                                                                                                                                                      1\n",
       "                                                                                                                                                                                                                                                                                                                                                                                                                                                                                                                                                                                                                                                                                                                                                                                                                                                                                                                                                                                                                                                                                                                                                                                                                                                                                                                                                                                                                                                                                                                                                                                                                                                                                                                                                                                                                                                                                                                                                                                                                                                                                                                                                                                                                                                                                                                                                                                                                                                                                                                                                                                                                                                                                                                                                                                                                                                                                                                                                                                                                                                                                                                                                                                                                                                                                                                                                                                                                                                                                                                                                                                                                                                                                                                                                                                                                                                                                                                                                                                                                                                                                                                                                                                                                                                                                                                                                                                                                                                                                                                                                                                                                                              ..\n",
       "BEIJING (Reuters) - China supports a peaceful resolution to the North Korea issue and it is incorrect to say China has not been doing enough, Chinese Foreign Minister Wang Yi told his French counterpart, China s Foreign Ministry said on Wednesday. The two were meeting on the sidelines of the United Nations the previous day, the ministry added.                                                                                                                                                                                                                                                                                                                                                                                                                                                                                                                                                                                                                                                                                                                                                                                                                                                                                                                                                                                                                                                                                                                                                                                                                                                                                                                                                                                                                                                                                                                                                                                                                                                                                                                                                                                                                                                                                                                                                                                                                                                                                                                                                                                                                                                                                                                                                                                                                                                                                                                                                                                                                                                                                                                                                                                                                                                                                                                                                                                                                                                                                                                                                                                                                                                                                                                                                                                                                                                                                                                                                                                                                                                                                                                                                                                                                                                                                                                                                                                                                                                                                                                                                                                                                                                                                      1\n",
       "WASHINGTON (Reuters) - The U.S. State Department on Wednesday advised U.S. citizens to delay or cancel unnecessary travel to mainland Honduras  due to ongoing political protests and the potential for violence.  The travel alert, which the department said in a statement expires on Dec. 31, follows a dispute over the result of a Nov. 26 presidential election that has sparked deadly protests and a night-time curfew in the poor, violent Central American country.                                                                                                                                                                                                                                                                                                                                                                                                                                                                                                                                                                                                                                                                                                                                                                                                                                                                                                                                                                                                                                                                                                                                                                                                                                                                                                                                                                                                                                                                                                                                                                                                                                                                                                                                                                                                                                                                                                                                                                                                                                                                                                                                                                                                                                                                                                                                                                                                                                                                                                                                                                                                                                                                                                                                                                                                                                                                                                                                                                                                                                                                                                                                                                                                                                                                                                                                                                                                                                                                                                                                                                                                                                                                                                                                                                                                                                                                                                                                                                                                                                                                                                                                                                 1\n",
       "MADRID (Reuters) - The leader of Catalonia s regional government, Carles Puigdemont, said on Thursday his administration would push on with a banned Oct. 1 referendum on a split from Spain, in defiance of a court order banning the vote.  We will do it because we have contingency plans in place to ensure it happens, but above all because it has the support of the immense majority of the population who are sick of the arrogance and abuse of the People s Party (PP) government,  he said in a televised statement. The ruling PP government of Prime Minister Mariano Rajoy and major opposition parties in Madrid have declared an independence referendum illegal and against Spain s constitution.                                                                                                                                                                                                                                                                                                                                                                                                                                                                                                                                                                                                                                                                                                                                                                                                                                                                                                                                                                                                                                                                                                                                                                                                                                                                                                                                                                                                                                                                                                                                                                                                                                                                                                                                                                                                                                                                                                                                                                                                                                                                                                                                                                                                                                                                                                                                                                                                                                                                                                                                                                                                                                                                                                                                                                                                                                                                                                                                                                                                                                                                                                                                                                                                                                                                                                                                                                                                                                                                                                                                                                                                                                                                                                                                                                                                                                                                                                                           1\n",
       "(Reuters) - Alabama’s Supreme Court Chief Justice was suspended on Friday  for ordering state probate judges not to grant marriage licenses to gay couples, despite contrary rulings by a federal court and the U.S. Supreme Court. Chief Justice Roy Moore, an outspoken opponent of same-sex unions, faces possible removal from the bench after the Alabama Judicial Inquiry Commission charged him with violating the state’s judicial ethics laws, according to news website AL.com.  The legality of gay marriage had been at the center of a national debate until the Supreme Court ruled in June that the U.S. Constitution provides same-sex couples the right to marry, handing a historic triumph to the American gay rights movement.   Despite the decision and a federal court ruling that made gay marriage legal in Alabama, Moore in January issued an administrative order to state probate judges that they should not issue marriage licenses to same-sex couples, according to court documents.  “Chief Justice Moore flagrantly disregarded and abused his authority,” the complaint said. “Moore knowingly ordered (probate judges) to commit violations ... knowingly subjecting them to potential prosecution and removal from office.” Moore said in a statement that the commission had no authority over administrative orders or the court’s ability to prohibit probate judges from issuing same-sex marriage licenses.   “We intend to fight this agenda vigorously and expect to prevail,” he said.   Moore wrote in his order that the U.S. Supreme Court ruling was at odds with a decision in March 2015 by the Alabama Supreme Court that instructed probate judges to stop issuing marriage licenses to same-sex couples. The conflicting opinions had resulted in “confusion and uncertainty,” Moore said, with many probate judges issuing marriage licenses to gay couples while others refused to do so. [uL1N14R283] The Human Rights Campaign, the biggest U.S. gay rights organization, hailed the suspension. “Roy Moore is an embarrassment to the state of Alabama,” Eva Walton Kendrick, the group’s Alabama state manager, said in a statement. Moore, a Republican, has been a hero of conservative causes before. In 2003, he was removed from office after a federal judge ruled he was placing himself above the law by refusing to take down a Ten Commandments monument. He won the chief justice job back in 2012, vowing not to do anything to create further friction with the federal courts.                                                                                                                                                                                                                                                                                                                                                                                                                                                                                                                                                                                                                                                                                                                                                                                                                                                                                                                                                                                                                                                                                                                                                                                                                                                                                                                                                                                                                                                                                                                                                                                                                                                                                                                                                                                                                                                                                                                                                                                                                                                                                      1\n",
       "KIEV (Reuters) - Ukrainian opposition leader Yulia Tymoshenko said on Wednesday she has faith in the United States justice system to do the right thing after last week s indictment of Paul Manafort, the man who helped bring her arch enemy to power. A political survivor and the strident voice of Ukraine s 2004/2005 Orange Revolution, Tymoshenko was jailed during the pro-Kremlin presidency of Viktor Yanukovich in 2011 in a case condemned by Western leaders as selective justice. According to the indictment of Manafort, who was a consultant to Yanukovich s Party of Regions before becoming Donald Trump s campaign manager, Manafort used offshore accounts to secretly pay $4 million for a report on her imprisonment. Ordered under house arrest as he awaits trial, Manafort has pleaded not guilty to a 12-count indictment on charges that include money laundering and failing to register as a foreign agent of Yanukovich s government. Money laundering allegations against Manafort are not new: Tymoshenko herself made them in a legal case she filed in New York against Yanukovich, Manafort and others that was dismissed in September 2015.   As a result of the work of Yanukovich and his circle, I ended up in prison,  the 56-year-old Tymoshenko said in an interview, in her first public comments about Manafort since his indictment. She said Yanukovich spent huge sums to blacken her name,  ... without doubt this affected my life and that of my family and team in a certain way, and Ukraine as well,  she said.    That is why I believe that U.S. justice will deal with the details, including our claims, and we will get a ruling from one of the most effective legal systems in the world - the U.S. system.  Manafort joined the Trump presidential campaign in March 2016 and later became campaign manager, but he was forced to resign in August as questions emerged about his previous work for Yanukovich s party. She used her fiery brand of oratory to try to humiliate Yanukovich, but he proved her nemesis after beating her in a 2010 election for president.  She was charged with abuse of power in relation to a gas import agreement signed with Russia in 2009 as prime minister and was jailed. She was freed from prison in February 2014 after Yanukovich fled into exile to Russia during the pro-Western Maidan protests and she addressed crowds from a wheelchair on Kiev s Independence Square because of chronic back trouble. The crowd s sympathy for her condition did not help her though to regain a place in the new pro-western leadership and she lost to President Petro Poroshenko in the 2014 election.  But the two-time prime minister who still sports a trademark peasant braid in her hair is now Poroshenko s main challenger at presidential and parliamentary elections due in 2019, according to opinion polls. Tymoshenko said Kiev should have a new type of agreement with the International Monetary Fund, which has propped up Ukraine s economy with a $17.5 billion aid program conditional on economic reforms and tackling entrenched graft.  The IMF program is in choppy waters: as of now Ukraine has refused to implement a sharp hike in gas prices it had previously agreed to, while the Fund is also studying whether recently passed pension changes pass muster.  When I served as prime minister I cooperated with the IMF and I believe that Ukraine can have positive cooperation with the IMF,  she said, when asked whether she would do as the IMF says or abandon the program.  But it seems to me that there needs to be a different emphasis in this cooperation.  She said the program should be focused not on what she termed a reduction in social spending, but instead on tax reform and reducing the size of Ukraine s shadow economy.                                                                                                                                                                                                                                                                                                                                                                                                                                                                                                                                                                                                                                                                                                                                                         1\n",
       "Name: text, Length: 24353, dtype: int64"
      ]
     },
     "execution_count": 7,
     "metadata": {},
     "output_type": "execute_result"
    }
   ],
   "source": [
    "(fake_news['text']).value_counts()"
   ]
  },
  {
   "cell_type": "code",
   "execution_count": 8,
   "id": "faa705ff-0158-43b8-913a-0fa2ff976d65",
   "metadata": {},
   "outputs": [
    {
     "data": {
      "text/html": [
       "<div>\n",
       "<style scoped>\n",
       "    .dataframe tbody tr th:only-of-type {\n",
       "        vertical-align: middle;\n",
       "    }\n",
       "\n",
       "    .dataframe tbody tr th {\n",
       "        vertical-align: top;\n",
       "    }\n",
       "\n",
       "    .dataframe thead th {\n",
       "        text-align: right;\n",
       "    }\n",
       "</style>\n",
       "<table border=\"1\" class=\"dataframe\">\n",
       "  <thead>\n",
       "    <tr style=\"text-align: right;\">\n",
       "      <th></th>\n",
       "      <th>title</th>\n",
       "      <th>text</th>\n",
       "      <th>label</th>\n",
       "    </tr>\n",
       "  </thead>\n",
       "  <tbody>\n",
       "    <tr>\n",
       "      <th>0</th>\n",
       "      <td>‘Maury’ Show Official Facebook Posts F*CKED U...</td>\n",
       "      <td>Maury is perhaps one of the trashiest shows on...</td>\n",
       "      <td>0</td>\n",
       "    </tr>\n",
       "    <tr>\n",
       "      <th>1</th>\n",
       "      <td>Trump’s Favorite News Channel Tries To Soothe...</td>\n",
       "      <td>Yesterday, after the father of one of the UCLA...</td>\n",
       "      <td>0</td>\n",
       "    </tr>\n",
       "    <tr>\n",
       "      <th>2</th>\n",
       "      <td>Russia warns Iraq, Kurds not to destabilize Mi...</td>\n",
       "      <td>MOSCOW (Reuters) - Russia on Wednesday warned ...</td>\n",
       "      <td>1</td>\n",
       "    </tr>\n",
       "    <tr>\n",
       "      <th>3</th>\n",
       "      <td>WATCH STEVE SCALISE Throw A Strike At The Nati...</td>\n",
       "      <td>House Majority Whip Steve Scalise (R., La.) th...</td>\n",
       "      <td>0</td>\n",
       "    </tr>\n",
       "    <tr>\n",
       "      <th>4</th>\n",
       "      <td>Trump Will HATE What Stephen Colbert Just Did...</td>\n",
       "      <td>It can be said that Late Show host Stephen Col...</td>\n",
       "      <td>0</td>\n",
       "    </tr>\n",
       "  </tbody>\n",
       "</table>\n",
       "</div>"
      ],
      "text/plain": [
       "                                               title  \\\n",
       "0   ‘Maury’ Show Official Facebook Posts F*CKED U...   \n",
       "1   Trump’s Favorite News Channel Tries To Soothe...   \n",
       "2  Russia warns Iraq, Kurds not to destabilize Mi...   \n",
       "3  WATCH STEVE SCALISE Throw A Strike At The Nati...   \n",
       "4   Trump Will HATE What Stephen Colbert Just Did...   \n",
       "\n",
       "                                                text  label  \n",
       "0  Maury is perhaps one of the trashiest shows on...      0  \n",
       "1  Yesterday, after the father of one of the UCLA...      0  \n",
       "2  MOSCOW (Reuters) - Russia on Wednesday warned ...      1  \n",
       "3  House Majority Whip Steve Scalise (R., La.) th...      0  \n",
       "4  It can be said that Late Show host Stephen Col...      0  "
      ]
     },
     "execution_count": 8,
     "metadata": {},
     "output_type": "execute_result"
    }
   ],
   "source": [
    "fake_news = fake_news.drop(['Unnamed: 0', 'Unnamed: 0.1'], axis=1)\n",
    "fake_news.head()"
   ]
  },
  {
   "cell_type": "code",
   "execution_count": 9,
   "id": "0ab2ef82-9429-4cba-89f8-c21bd845da27",
   "metadata": {},
   "outputs": [
    {
     "name": "stdout",
     "output_type": "stream",
     "text": [
      "A file already exists with this name.\n",
      "\n"
     ]
    },
    {
     "name": "stdin",
     "output_type": "stream",
     "text": [
      "Do you want to overwrite? (Y/N) Y\n"
     ]
    },
    {
     "name": "stdout",
     "output_type": "stream",
     "text": [
      "Writing file.  \"../DataScienceCapstone2/source_folder/fake_news_cleaned.csv\"\n"
     ]
    }
   ],
   "source": [
    "# save the data to a new csv file to work EDA\n",
    "datapath = '../DataScienceCapstone2/source_folder'\n",
    "save_file(fake_news, 'fake_news_cleaned.csv', datapath)"
   ]
  },
  {
   "cell_type": "markdown",
   "id": "e65bc04e",
   "metadata": {},
   "source": [
    "## EDA"
   ]
  },
  {
   "cell_type": "code",
   "execution_count": 10,
   "id": "7f4b7ccd",
   "metadata": {},
   "outputs": [
    {
     "name": "stdout",
     "output_type": "stream",
     "text": [
      "Length of a text: 2338\n"
     ]
    }
   ],
   "source": [
    "length = len(fake_news['text'][0])\n",
    "print(f'Length of a text: {length}')"
   ]
  },
  {
   "cell_type": "code",
   "execution_count": 11,
   "id": "027fc7c8",
   "metadata": {},
   "outputs": [
    {
     "data": {
      "text/html": [
       "<div>\n",
       "<style scoped>\n",
       "    .dataframe tbody tr th:only-of-type {\n",
       "        vertical-align: middle;\n",
       "    }\n",
       "\n",
       "    .dataframe tbody tr th {\n",
       "        vertical-align: top;\n",
       "    }\n",
       "\n",
       "    .dataframe thead th {\n",
       "        text-align: right;\n",
       "    }\n",
       "</style>\n",
       "<table border=\"1\" class=\"dataframe\">\n",
       "  <thead>\n",
       "    <tr style=\"text-align: right;\">\n",
       "      <th></th>\n",
       "      <th>title</th>\n",
       "      <th>text</th>\n",
       "      <th>label</th>\n",
       "      <th>Length</th>\n",
       "    </tr>\n",
       "  </thead>\n",
       "  <tbody>\n",
       "    <tr>\n",
       "      <th>0</th>\n",
       "      <td>‘Maury’ Show Official Facebook Posts F*CKED U...</td>\n",
       "      <td>Maury is perhaps one of the trashiest shows on...</td>\n",
       "      <td>0</td>\n",
       "      <td>2338</td>\n",
       "    </tr>\n",
       "    <tr>\n",
       "      <th>1</th>\n",
       "      <td>Trump’s Favorite News Channel Tries To Soothe...</td>\n",
       "      <td>Yesterday, after the father of one of the UCLA...</td>\n",
       "      <td>0</td>\n",
       "      <td>4467</td>\n",
       "    </tr>\n",
       "    <tr>\n",
       "      <th>2</th>\n",
       "      <td>Russia warns Iraq, Kurds not to destabilize Mi...</td>\n",
       "      <td>MOSCOW (Reuters) - Russia on Wednesday warned ...</td>\n",
       "      <td>1</td>\n",
       "      <td>450</td>\n",
       "    </tr>\n",
       "    <tr>\n",
       "      <th>3</th>\n",
       "      <td>WATCH STEVE SCALISE Throw A Strike At The Nati...</td>\n",
       "      <td>House Majority Whip Steve Scalise (R., La.) th...</td>\n",
       "      <td>0</td>\n",
       "      <td>1224</td>\n",
       "    </tr>\n",
       "    <tr>\n",
       "      <th>4</th>\n",
       "      <td>Trump Will HATE What Stephen Colbert Just Did...</td>\n",
       "      <td>It can be said that Late Show host Stephen Col...</td>\n",
       "      <td>0</td>\n",
       "      <td>1224</td>\n",
       "    </tr>\n",
       "  </tbody>\n",
       "</table>\n",
       "</div>"
      ],
      "text/plain": [
       "                                               title  \\\n",
       "0   ‘Maury’ Show Official Facebook Posts F*CKED U...   \n",
       "1   Trump’s Favorite News Channel Tries To Soothe...   \n",
       "2  Russia warns Iraq, Kurds not to destabilize Mi...   \n",
       "3  WATCH STEVE SCALISE Throw A Strike At The Nati...   \n",
       "4   Trump Will HATE What Stephen Colbert Just Did...   \n",
       "\n",
       "                                                text  label  Length  \n",
       "0  Maury is perhaps one of the trashiest shows on...      0    2338  \n",
       "1  Yesterday, after the father of one of the UCLA...      0    4467  \n",
       "2  MOSCOW (Reuters) - Russia on Wednesday warned ...      1     450  \n",
       "3  House Majority Whip Steve Scalise (R., La.) th...      0    1224  \n",
       "4  It can be said that Late Show host Stephen Col...      0    1224  "
      ]
     },
     "execution_count": 11,
     "metadata": {},
     "output_type": "execute_result"
    }
   ],
   "source": [
    "fake_news['Length'] = fake_news['text'].str.len()\n",
    "fake_news.head()"
   ]
  },
  {
   "cell_type": "markdown",
   "id": "addadbda",
   "metadata": {},
   "source": [
    "#### Word Count\n",
    "Number of words in a best answer."
   ]
  },
  {
   "cell_type": "code",
   "execution_count": 12,
   "id": "bf28e05f",
   "metadata": {},
   "outputs": [
    {
     "name": "stdout",
     "output_type": "stream",
     "text": [
      "Word count in a title: 430\n"
     ]
    }
   ],
   "source": [
    "word_count = fake_news['text'][0].split()\n",
    "print(f'Word count in a title: {len(word_count)}')"
   ]
  },
  {
   "cell_type": "code",
   "execution_count": 13,
   "id": "3f42e892",
   "metadata": {},
   "outputs": [],
   "source": [
    "def word_count(text):\n",
    "    text_list = text.split()\n",
    "    return len(text_list)"
   ]
  },
  {
   "cell_type": "code",
   "execution_count": 14,
   "id": "f322a9bf",
   "metadata": {},
   "outputs": [
    {
     "data": {
      "text/html": [
       "<div>\n",
       "<style scoped>\n",
       "    .dataframe tbody tr th:only-of-type {\n",
       "        vertical-align: middle;\n",
       "    }\n",
       "\n",
       "    .dataframe tbody tr th {\n",
       "        vertical-align: top;\n",
       "    }\n",
       "\n",
       "    .dataframe thead th {\n",
       "        text-align: right;\n",
       "    }\n",
       "</style>\n",
       "<table border=\"1\" class=\"dataframe\">\n",
       "  <thead>\n",
       "    <tr style=\"text-align: right;\">\n",
       "      <th></th>\n",
       "      <th>title</th>\n",
       "      <th>text</th>\n",
       "      <th>label</th>\n",
       "      <th>Length</th>\n",
       "      <th>Word_count</th>\n",
       "    </tr>\n",
       "  </thead>\n",
       "  <tbody>\n",
       "    <tr>\n",
       "      <th>0</th>\n",
       "      <td>‘Maury’ Show Official Facebook Posts F*CKED U...</td>\n",
       "      <td>Maury is perhaps one of the trashiest shows on...</td>\n",
       "      <td>0</td>\n",
       "      <td>2338</td>\n",
       "      <td>430</td>\n",
       "    </tr>\n",
       "    <tr>\n",
       "      <th>1</th>\n",
       "      <td>Trump’s Favorite News Channel Tries To Soothe...</td>\n",
       "      <td>Yesterday, after the father of one of the UCLA...</td>\n",
       "      <td>0</td>\n",
       "      <td>4467</td>\n",
       "      <td>715</td>\n",
       "    </tr>\n",
       "    <tr>\n",
       "      <th>2</th>\n",
       "      <td>Russia warns Iraq, Kurds not to destabilize Mi...</td>\n",
       "      <td>MOSCOW (Reuters) - Russia on Wednesday warned ...</td>\n",
       "      <td>1</td>\n",
       "      <td>450</td>\n",
       "      <td>70</td>\n",
       "    </tr>\n",
       "    <tr>\n",
       "      <th>3</th>\n",
       "      <td>WATCH STEVE SCALISE Throw A Strike At The Nati...</td>\n",
       "      <td>House Majority Whip Steve Scalise (R., La.) th...</td>\n",
       "      <td>0</td>\n",
       "      <td>1224</td>\n",
       "      <td>210</td>\n",
       "    </tr>\n",
       "    <tr>\n",
       "      <th>4</th>\n",
       "      <td>Trump Will HATE What Stephen Colbert Just Did...</td>\n",
       "      <td>It can be said that Late Show host Stephen Col...</td>\n",
       "      <td>0</td>\n",
       "      <td>1224</td>\n",
       "      <td>204</td>\n",
       "    </tr>\n",
       "  </tbody>\n",
       "</table>\n",
       "</div>"
      ],
      "text/plain": [
       "                                               title  \\\n",
       "0   ‘Maury’ Show Official Facebook Posts F*CKED U...   \n",
       "1   Trump’s Favorite News Channel Tries To Soothe...   \n",
       "2  Russia warns Iraq, Kurds not to destabilize Mi...   \n",
       "3  WATCH STEVE SCALISE Throw A Strike At The Nati...   \n",
       "4   Trump Will HATE What Stephen Colbert Just Did...   \n",
       "\n",
       "                                                text  label  Length  \\\n",
       "0  Maury is perhaps one of the trashiest shows on...      0    2338   \n",
       "1  Yesterday, after the father of one of the UCLA...      0    4467   \n",
       "2  MOSCOW (Reuters) - Russia on Wednesday warned ...      1     450   \n",
       "3  House Majority Whip Steve Scalise (R., La.) th...      0    1224   \n",
       "4  It can be said that Late Show host Stephen Col...      0    1224   \n",
       "\n",
       "   Word_count  \n",
       "0         430  \n",
       "1         715  \n",
       "2          70  \n",
       "3         210  \n",
       "4         204  "
      ]
     },
     "execution_count": 14,
     "metadata": {},
     "output_type": "execute_result"
    }
   ],
   "source": [
    "fake_news['Word_count'] = fake_news['text'].apply(word_count)\n",
    "fake_news.head()"
   ]
  },
  {
   "cell_type": "markdown",
   "id": "f034dd1d",
   "metadata": {},
   "source": [
    "Average length of words."
   ]
  },
  {
   "cell_type": "code",
   "execution_count": 15,
   "id": "1424204e",
   "metadata": {},
   "outputs": [
    {
     "data": {
      "text/html": [
       "<div>\n",
       "<style scoped>\n",
       "    .dataframe tbody tr th:only-of-type {\n",
       "        vertical-align: middle;\n",
       "    }\n",
       "\n",
       "    .dataframe tbody tr th {\n",
       "        vertical-align: top;\n",
       "    }\n",
       "\n",
       "    .dataframe thead th {\n",
       "        text-align: right;\n",
       "    }\n",
       "</style>\n",
       "<table border=\"1\" class=\"dataframe\">\n",
       "  <thead>\n",
       "    <tr style=\"text-align: right;\">\n",
       "      <th></th>\n",
       "      <th>title</th>\n",
       "      <th>text</th>\n",
       "      <th>label</th>\n",
       "      <th>Length</th>\n",
       "      <th>Word_count</th>\n",
       "      <th>mean_word_length</th>\n",
       "    </tr>\n",
       "  </thead>\n",
       "  <tbody>\n",
       "    <tr>\n",
       "      <th>0</th>\n",
       "      <td>‘Maury’ Show Official Facebook Posts F*CKED U...</td>\n",
       "      <td>Maury is perhaps one of the trashiest shows on...</td>\n",
       "      <td>0</td>\n",
       "      <td>2338</td>\n",
       "      <td>430</td>\n",
       "      <td>4.401848</td>\n",
       "    </tr>\n",
       "    <tr>\n",
       "      <th>1</th>\n",
       "      <td>Trump’s Favorite News Channel Tries To Soothe...</td>\n",
       "      <td>Yesterday, after the father of one of the UCLA...</td>\n",
       "      <td>0</td>\n",
       "      <td>4467</td>\n",
       "      <td>715</td>\n",
       "      <td>4.989276</td>\n",
       "    </tr>\n",
       "    <tr>\n",
       "      <th>2</th>\n",
       "      <td>Russia warns Iraq, Kurds not to destabilize Mi...</td>\n",
       "      <td>MOSCOW (Reuters) - Russia on Wednesday warned ...</td>\n",
       "      <td>1</td>\n",
       "      <td>450</td>\n",
       "      <td>70</td>\n",
       "      <td>5.263889</td>\n",
       "    </tr>\n",
       "    <tr>\n",
       "      <th>3</th>\n",
       "      <td>WATCH STEVE SCALISE Throw A Strike At The Nati...</td>\n",
       "      <td>House Majority Whip Steve Scalise (R., La.) th...</td>\n",
       "      <td>0</td>\n",
       "      <td>1224</td>\n",
       "      <td>210</td>\n",
       "      <td>4.724299</td>\n",
       "    </tr>\n",
       "    <tr>\n",
       "      <th>4</th>\n",
       "      <td>Trump Will HATE What Stephen Colbert Just Did...</td>\n",
       "      <td>It can be said that Late Show host Stephen Col...</td>\n",
       "      <td>0</td>\n",
       "      <td>1224</td>\n",
       "      <td>204</td>\n",
       "      <td>4.889423</td>\n",
       "    </tr>\n",
       "  </tbody>\n",
       "</table>\n",
       "</div>"
      ],
      "text/plain": [
       "                                               title  \\\n",
       "0   ‘Maury’ Show Official Facebook Posts F*CKED U...   \n",
       "1   Trump’s Favorite News Channel Tries To Soothe...   \n",
       "2  Russia warns Iraq, Kurds not to destabilize Mi...   \n",
       "3  WATCH STEVE SCALISE Throw A Strike At The Nati...   \n",
       "4   Trump Will HATE What Stephen Colbert Just Did...   \n",
       "\n",
       "                                                text  label  Length  \\\n",
       "0  Maury is perhaps one of the trashiest shows on...      0    2338   \n",
       "1  Yesterday, after the father of one of the UCLA...      0    4467   \n",
       "2  MOSCOW (Reuters) - Russia on Wednesday warned ...      1     450   \n",
       "3  House Majority Whip Steve Scalise (R., La.) th...      0    1224   \n",
       "4  It can be said that Late Show host Stephen Col...      0    1224   \n",
       "\n",
       "   Word_count  mean_word_length  \n",
       "0         430          4.401848  \n",
       "1         715          4.989276  \n",
       "2          70          5.263889  \n",
       "3         210          4.724299  \n",
       "4         204          4.889423  "
      ]
     },
     "execution_count": 15,
     "metadata": {},
     "output_type": "execute_result"
    }
   ],
   "source": [
    "fake_news['mean_word_length'] = fake_news['text'].map(lambda x: np.mean([len(word) for word in x.split(\" \")]))\n",
    "fake_news.head()"
   ]
  },
  {
   "cell_type": "markdown",
   "id": "afb7a7f6-c090-4f05-8c17-e4352377b665",
   "metadata": {},
   "source": [
    "Average length of setences in the text column."
   ]
  },
  {
   "cell_type": "code",
   "execution_count": 16,
   "id": "4ff3e931",
   "metadata": {},
   "outputs": [
    {
     "data": {
      "text/plain": [
       "122.0"
      ]
     },
     "execution_count": 16,
     "metadata": {},
     "output_type": "execute_result"
    }
   ],
   "source": [
    "np.mean([len(sent) for sent in tokenize.sent_tokenize(fake_news['text'][0])])"
   ]
  },
  {
   "cell_type": "code",
   "execution_count": 17,
   "id": "a1f6695e",
   "metadata": {},
   "outputs": [
    {
     "data": {
      "text/html": [
       "<div>\n",
       "<style scoped>\n",
       "    .dataframe tbody tr th:only-of-type {\n",
       "        vertical-align: middle;\n",
       "    }\n",
       "\n",
       "    .dataframe tbody tr th {\n",
       "        vertical-align: top;\n",
       "    }\n",
       "\n",
       "    .dataframe thead th {\n",
       "        text-align: right;\n",
       "    }\n",
       "</style>\n",
       "<table border=\"1\" class=\"dataframe\">\n",
       "  <thead>\n",
       "    <tr style=\"text-align: right;\">\n",
       "      <th></th>\n",
       "      <th>title</th>\n",
       "      <th>text</th>\n",
       "      <th>label</th>\n",
       "      <th>Length</th>\n",
       "      <th>Word_count</th>\n",
       "      <th>mean_word_length</th>\n",
       "      <th>mean_sent_length</th>\n",
       "    </tr>\n",
       "  </thead>\n",
       "  <tbody>\n",
       "    <tr>\n",
       "      <th>0</th>\n",
       "      <td>‘Maury’ Show Official Facebook Posts F*CKED U...</td>\n",
       "      <td>Maury is perhaps one of the trashiest shows on...</td>\n",
       "      <td>0</td>\n",
       "      <td>2338</td>\n",
       "      <td>430</td>\n",
       "      <td>4.401848</td>\n",
       "      <td>122.000000</td>\n",
       "    </tr>\n",
       "    <tr>\n",
       "      <th>1</th>\n",
       "      <td>Trump’s Favorite News Channel Tries To Soothe...</td>\n",
       "      <td>Yesterday, after the father of one of the UCLA...</td>\n",
       "      <td>0</td>\n",
       "      <td>4467</td>\n",
       "      <td>715</td>\n",
       "      <td>4.989276</td>\n",
       "      <td>100.250000</td>\n",
       "    </tr>\n",
       "    <tr>\n",
       "      <th>2</th>\n",
       "      <td>Russia warns Iraq, Kurds not to destabilize Mi...</td>\n",
       "      <td>MOSCOW (Reuters) - Russia on Wednesday warned ...</td>\n",
       "      <td>1</td>\n",
       "      <td>450</td>\n",
       "      <td>70</td>\n",
       "      <td>5.263889</td>\n",
       "      <td>224.000000</td>\n",
       "    </tr>\n",
       "    <tr>\n",
       "      <th>3</th>\n",
       "      <td>WATCH STEVE SCALISE Throw A Strike At The Nati...</td>\n",
       "      <td>House Majority Whip Steve Scalise (R., La.) th...</td>\n",
       "      <td>0</td>\n",
       "      <td>1224</td>\n",
       "      <td>210</td>\n",
       "      <td>4.724299</td>\n",
       "      <td>173.714286</td>\n",
       "    </tr>\n",
       "    <tr>\n",
       "      <th>4</th>\n",
       "      <td>Trump Will HATE What Stephen Colbert Just Did...</td>\n",
       "      <td>It can be said that Late Show host Stephen Col...</td>\n",
       "      <td>0</td>\n",
       "      <td>1224</td>\n",
       "      <td>204</td>\n",
       "      <td>4.889423</td>\n",
       "      <td>305.250000</td>\n",
       "    </tr>\n",
       "  </tbody>\n",
       "</table>\n",
       "</div>"
      ],
      "text/plain": [
       "                                               title  \\\n",
       "0   ‘Maury’ Show Official Facebook Posts F*CKED U...   \n",
       "1   Trump’s Favorite News Channel Tries To Soothe...   \n",
       "2  Russia warns Iraq, Kurds not to destabilize Mi...   \n",
       "3  WATCH STEVE SCALISE Throw A Strike At The Nati...   \n",
       "4   Trump Will HATE What Stephen Colbert Just Did...   \n",
       "\n",
       "                                                text  label  Length  \\\n",
       "0  Maury is perhaps one of the trashiest shows on...      0    2338   \n",
       "1  Yesterday, after the father of one of the UCLA...      0    4467   \n",
       "2  MOSCOW (Reuters) - Russia on Wednesday warned ...      1     450   \n",
       "3  House Majority Whip Steve Scalise (R., La.) th...      0    1224   \n",
       "4  It can be said that Late Show host Stephen Col...      0    1224   \n",
       "\n",
       "   Word_count  mean_word_length  mean_sent_length  \n",
       "0         430          4.401848        122.000000  \n",
       "1         715          4.989276        100.250000  \n",
       "2          70          5.263889        224.000000  \n",
       "3         210          4.724299        173.714286  \n",
       "4         204          4.889423        305.250000  "
      ]
     },
     "execution_count": 17,
     "metadata": {},
     "output_type": "execute_result"
    }
   ],
   "source": [
    "warnings.filterwarnings(action='ignore', message='Mean of empty slice')\n",
    "\n",
    "def calculate_mean_sent_length(text):\n",
    "    return np.mean([len(sent) for sent in tokenize.sent_tokenize(text)])\n",
    "\n",
    "fake_news['mean_sent_length'] = fake_news['text'].apply(calculate_mean_sent_length)\n",
    "fake_news.head()"
   ]
  },
  {
   "cell_type": "markdown",
   "id": "d49e3c00-0b1e-4c9d-9ec4-9819f36b995f",
   "metadata": {},
   "source": [
    "Displays the top 20 most frequently occurring words in the text data."
   ]
  },
  {
   "cell_type": "code",
   "execution_count": 18,
   "id": "b30867a2",
   "metadata": {},
   "outputs": [
    {
     "data": {
      "text/html": [
       "<div>\n",
       "<style scoped>\n",
       "    .dataframe tbody tr th:only-of-type {\n",
       "        vertical-align: middle;\n",
       "    }\n",
       "\n",
       "    .dataframe tbody tr th {\n",
       "        vertical-align: top;\n",
       "    }\n",
       "\n",
       "    .dataframe thead th {\n",
       "        text-align: right;\n",
       "    }\n",
       "</style>\n",
       "<table border=\"1\" class=\"dataframe\">\n",
       "  <thead>\n",
       "    <tr style=\"text-align: right;\">\n",
       "      <th></th>\n",
       "      <th>0</th>\n",
       "    </tr>\n",
       "  </thead>\n",
       "  <tbody>\n",
       "    <tr>\n",
       "      <th>trump</th>\n",
       "      <td>75396</td>\n",
       "    </tr>\n",
       "    <tr>\n",
       "      <th>said</th>\n",
       "      <td>74978</td>\n",
       "    </tr>\n",
       "    <tr>\n",
       "      <th>president</th>\n",
       "      <td>29662</td>\n",
       "    </tr>\n",
       "    <tr>\n",
       "      <th>people</th>\n",
       "      <td>22960</td>\n",
       "    </tr>\n",
       "    <tr>\n",
       "      <th>state</th>\n",
       "      <td>18785</td>\n",
       "    </tr>\n",
       "    <tr>\n",
       "      <th>reuters</th>\n",
       "      <td>17474</td>\n",
       "    </tr>\n",
       "    <tr>\n",
       "      <th>new</th>\n",
       "      <td>17162</td>\n",
       "    </tr>\n",
       "    <tr>\n",
       "      <th>donald</th>\n",
       "      <td>16029</td>\n",
       "    </tr>\n",
       "    <tr>\n",
       "      <th>government</th>\n",
       "      <td>15611</td>\n",
       "    </tr>\n",
       "    <tr>\n",
       "      <th>house</th>\n",
       "      <td>15430</td>\n",
       "    </tr>\n",
       "    <tr>\n",
       "      <th>clinton</th>\n",
       "      <td>15142</td>\n",
       "    </tr>\n",
       "    <tr>\n",
       "      <th>states</th>\n",
       "      <td>14852</td>\n",
       "    </tr>\n",
       "    <tr>\n",
       "      <th>republican</th>\n",
       "      <td>14852</td>\n",
       "    </tr>\n",
       "    <tr>\n",
       "      <th>obama</th>\n",
       "      <td>14075</td>\n",
       "    </tr>\n",
       "    <tr>\n",
       "      <th>year</th>\n",
       "      <td>13547</td>\n",
       "    </tr>\n",
       "    <tr>\n",
       "      <th>just</th>\n",
       "      <td>13519</td>\n",
       "    </tr>\n",
       "    <tr>\n",
       "      <th>united</th>\n",
       "      <td>13087</td>\n",
       "    </tr>\n",
       "    <tr>\n",
       "      <th>told</th>\n",
       "      <td>12630</td>\n",
       "    </tr>\n",
       "    <tr>\n",
       "      <th>white</th>\n",
       "      <td>12550</td>\n",
       "    </tr>\n",
       "    <tr>\n",
       "      <th>like</th>\n",
       "      <td>12284</td>\n",
       "    </tr>\n",
       "  </tbody>\n",
       "</table>\n",
       "</div>"
      ],
      "text/plain": [
       "                0\n",
       "trump       75396\n",
       "said        74978\n",
       "president   29662\n",
       "people      22960\n",
       "state       18785\n",
       "reuters     17474\n",
       "new         17162\n",
       "donald      16029\n",
       "government  15611\n",
       "house       15430\n",
       "clinton     15142\n",
       "states      14852\n",
       "republican  14852\n",
       "obama       14075\n",
       "year        13547\n",
       "just        13519\n",
       "united      13087\n",
       "told        12630\n",
       "white       12550\n",
       "like        12284"
      ]
     },
     "execution_count": 18,
     "metadata": {},
     "output_type": "execute_result"
    }
   ],
   "source": [
    "cv = CountVectorizer(stop_words='english')\n",
    "counts = cv.fit_transform(fake_news.text)\n",
    "pd.DataFrame(counts.sum(axis=0),columns=cv.get_feature_names_out()).T.sort_values(0,ascending=False).head(20)"
   ]
  },
  {
   "cell_type": "markdown",
   "id": "eb02d085-cf64-4860-877b-48a108c75477",
   "metadata": {},
   "source": [
    "### Bigram\n",
    "Shows the top 20 most frequent bigrams in the 'fake_news' text data, along with their respective counts. Provides insights into pairs of consecutive words that frequently appear together in the given text data."
   ]
  },
  {
   "cell_type": "code",
   "execution_count": 19,
   "id": "ef241bcb",
   "metadata": {},
   "outputs": [
    {
     "data": {
      "text/html": [
       "<div>\n",
       "<style scoped>\n",
       "    .dataframe tbody tr th:only-of-type {\n",
       "        vertical-align: middle;\n",
       "    }\n",
       "\n",
       "    .dataframe tbody tr th {\n",
       "        vertical-align: top;\n",
       "    }\n",
       "\n",
       "    .dataframe thead th {\n",
       "        text-align: right;\n",
       "    }\n",
       "</style>\n",
       "<table border=\"1\" class=\"dataframe\">\n",
       "  <thead>\n",
       "    <tr style=\"text-align: right;\">\n",
       "      <th></th>\n",
       "      <th>0</th>\n",
       "    </tr>\n",
       "  </thead>\n",
       "  <tbody>\n",
       "    <tr>\n",
       "      <th>donald trump</th>\n",
       "      <td>15000</td>\n",
       "    </tr>\n",
       "    <tr>\n",
       "      <th>united states</th>\n",
       "      <td>10415</td>\n",
       "    </tr>\n",
       "    <tr>\n",
       "      <th>white house</th>\n",
       "      <td>8360</td>\n",
       "    </tr>\n",
       "    <tr>\n",
       "      <th>hillary clinton</th>\n",
       "      <td>5218</td>\n",
       "    </tr>\n",
       "    <tr>\n",
       "      <th>new york</th>\n",
       "      <td>4943</td>\n",
       "    </tr>\n",
       "    <tr>\n",
       "      <th>featured image</th>\n",
       "      <td>4634</td>\n",
       "    </tr>\n",
       "    <tr>\n",
       "      <th>president donald</th>\n",
       "      <td>3972</td>\n",
       "    </tr>\n",
       "    <tr>\n",
       "      <th>washington reuters</th>\n",
       "      <td>3952</td>\n",
       "    </tr>\n",
       "    <tr>\n",
       "      <th>north korea</th>\n",
       "      <td>3729</td>\n",
       "    </tr>\n",
       "    <tr>\n",
       "      <th>barack obama</th>\n",
       "      <td>3027</td>\n",
       "    </tr>\n",
       "    <tr>\n",
       "      <th>twitter com</th>\n",
       "      <td>2995</td>\n",
       "    </tr>\n",
       "    <tr>\n",
       "      <th>trump said</th>\n",
       "      <td>2983</td>\n",
       "    </tr>\n",
       "    <tr>\n",
       "      <th>pic twitter</th>\n",
       "      <td>2855</td>\n",
       "    </tr>\n",
       "    <tr>\n",
       "      <th>prime minister</th>\n",
       "      <td>2779</td>\n",
       "    </tr>\n",
       "    <tr>\n",
       "      <th>said statement</th>\n",
       "      <td>2634</td>\n",
       "    </tr>\n",
       "    <tr>\n",
       "      <th>year old</th>\n",
       "      <td>2532</td>\n",
       "    </tr>\n",
       "    <tr>\n",
       "      <th>getty images</th>\n",
       "      <td>2403</td>\n",
       "    </tr>\n",
       "    <tr>\n",
       "      <th>supreme court</th>\n",
       "      <td>2392</td>\n",
       "    </tr>\n",
       "    <tr>\n",
       "      <th>president obama</th>\n",
       "      <td>2207</td>\n",
       "    </tr>\n",
       "    <tr>\n",
       "      <th>president barack</th>\n",
       "      <td>2174</td>\n",
       "    </tr>\n",
       "  </tbody>\n",
       "</table>\n",
       "</div>"
      ],
      "text/plain": [
       "                        0\n",
       "donald trump        15000\n",
       "united states       10415\n",
       "white house          8360\n",
       "hillary clinton      5218\n",
       "new york             4943\n",
       "featured image       4634\n",
       "president donald     3972\n",
       "washington reuters   3952\n",
       "north korea          3729\n",
       "barack obama         3027\n",
       "twitter com          2995\n",
       "trump said           2983\n",
       "pic twitter          2855\n",
       "prime minister       2779\n",
       "said statement       2634\n",
       "year old             2532\n",
       "getty images         2403\n",
       "supreme court        2392\n",
       "president obama      2207\n",
       "president barack     2174"
      ]
     },
     "execution_count": 19,
     "metadata": {},
     "output_type": "execute_result"
    }
   ],
   "source": [
    "cv = CountVectorizer(ngram_range=(2,2),stop_words='english')\n",
    "counts = cv.fit_transform(fake_news.text)\n",
    "pd.DataFrame(counts.sum(axis=0),columns=cv.get_feature_names_out()).T.sort_values(0,ascending=False).head(20)"
   ]
  }
 ],
 "metadata": {
  "kernelspec": {
   "display_name": "Python 3 (ipykernel)",
   "language": "python",
   "name": "python3"
  },
  "language_info": {
   "codemirror_mode": {
    "name": "ipython",
    "version": 3
   },
   "file_extension": ".py",
   "mimetype": "text/x-python",
   "name": "python",
   "nbconvert_exporter": "python",
   "pygments_lexer": "ipython3",
   "version": "3.9.18"
  }
 },
 "nbformat": 4,
 "nbformat_minor": 5
}
